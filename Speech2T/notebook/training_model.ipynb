{
 "cells": [
  {
   "cell_type": "code",
   "execution_count": 3,
   "metadata": {},
   "outputs": [],
   "source": [
    "from torch import Tensor\n",
    "import torch.nn as nn\n",
    "import torch as torch"
   ]
  },
  {
   "cell_type": "markdown",
   "metadata": {},
   "source": [
    "Speech2T - Model Tranining"
   ]
  },
  {
   "cell_type": "code",
   "execution_count": 6,
   "metadata": {},
   "outputs": [
    {
     "data": {
      "text/plain": [
       "(tensor([0, 1, 2, 3]),\n",
       " tensor([4, 5, 6, 7]),\n",
       " tensor([ 8,  9, 10, 11]),\n",
       " tensor([12, 13, 14, 15]),\n",
       " tensor([16, 17, 18]))"
      ]
     },
     "execution_count": 6,
     "metadata": {},
     "output_type": "execute_result"
    }
   ],
   "source": [
    "torch.arange(19).chunk(6)"
   ]
  },
  {
   "cell_type": "code",
   "execution_count": 29,
   "metadata": {},
   "outputs": [
    {
     "name": "stdout",
     "output_type": "stream",
     "text": [
      "68656c6c6f\n",
      "['6', None, None, None, None, None, None, None, None, None, None, None, None, None, None, None, None, None, None, None, None, None, None, None, None, None, None, None, None, None, None, None, None, None, None, None, None, None, None, None, None, None, None, None, None, None, None, None, None, None, None, None, None, None, None, None, None, None, None, None, None, None, None, None, None, None, None, None, None, None, None, None, None, None, None, None, None, None, None, None, None, None, None, None, None, None, None, None, None, None, None, None, None, None, None, None, None, None, None, None, None, None, None, None, None, None, None, None, None, None, None, None, None, None, None, None, None, None, None, None, None, None, None, None, None, None, None, None, None, None, None, None, None, None, None, None, None, None, None, None, None, None, None, None, None, None, None, None, None, None]\n"
     ]
    }
   ],
   "source": [
    "b = \"hello\".encode(\"utf-8\").hex()\n",
    "print (b) \n",
    "\n",
    "a = [None]*150\n",
    "a[0] = b[0]\n",
    "print(a)"
   ]
  },
  {
   "cell_type": "code",
   "execution_count": 86,
   "metadata": {},
   "outputs": [
    {
     "name": "stdout",
     "output_type": "stream",
     "text": [
      "Thek3}2}fÃ#Ò*\u0005qà*ºEÝQ\n",
      "**:ðÓ¦£¸**j\u001b*¹|dÐcéÁÁ\u0005OÞ´ÿ***³)\u0016­-*Ñ¶*\u0005ª*tRõS\u0013ànR:*\n",
      "We can factor the number 15 with quantum computers. We can also factor the number 1\n",
      "Euler would probably enjoy that now his theorem becomes a corner stone of crypto - \n",
      "The nice thing about Keeyloq is now we cryptographers can drive a lot of fancy cars\n",
      "The ciphertext produced by a weak encryption algorithm looks as good as ciphertext \n",
      "You don't want to buy a set of car keys from a guy who specializes in stealing cars\n",
      "There are two types of cryptography - that which will keep secrets safe from your l\n",
      "There are two types of cyptography: one that allows the Government to use brute for\n",
      "We can see the point where the chip is unhappy if a wrong bit is sent and consumes \n",
      "A (private-key)  encryption scheme states 3 algorithms, namely a procedure for gene\n",
      " The Concise OxfordDictionary (2006) deï¬nes crypto as the art of  writing o r sol\n"
     ]
    }
   ],
   "source": [
    "import string\n",
    "import collections\n",
    "import sets\n",
    "import binascii\n",
    "\n",
    "# XORs two string\n",
    "def strxor(a, b):     # xor two strings (trims the longer input)\n",
    "    return \"\".join([chr(ord(x) ^ ord(y)) for (x, y) in zip(a, b)])\n",
    "\n",
    "\n",
    "\n",
    "# 10 unknown ciphertexts (in hex format), all encrpyted with the same key\n",
    "c1 = \"315c4eeaa8b5f8aaf9174145bf43e1784b8fa00dc71d885a804e5ee9fa40b16349c146fb778cdf2d3aff021dfff5b403b510d0d0455468aeb98622b137dae857553ccd8883a7bc37520e06e515d22c954eba5025b8cc57ee59418ce7dc6bc41556bdb36bbca3e8774301fbcaa3b83b220809560987815f65286764703de0f3d524400a19b159610b11ef3e\"\n",
    "c2 = \"234c02ecbbfbafa3ed18510abd11fa724fcda2018a1a8342cf064bbde548b12b07df44ba7191d9606ef4081ffde5ad46a5069d9f7f543bedb9c861bf29c7e205132eda9382b0bc2c5c4b45f919cf3a9f1cb74151f6d551f4480c82b2cb24cc5b028aa76eb7b4ab24171ab3cdadb8356f\"\n",
    "c3 = \"32510ba9a7b2bba9b8005d43a304b5714cc0bb0c8a34884dd91304b8ad40b62b07df44ba6e9d8a2368e51d04e0e7b207b70b9b8261112bacb6c866a232dfe257527dc29398f5f3251a0d47e503c66e935de81230b59b7afb5f41afa8d661cb\"\n",
    "c4 = \"32510ba9aab2a8a4fd06414fb517b5605cc0aa0dc91a8908c2064ba8ad5ea06a029056f47a8ad3306ef5021eafe1ac01a81197847a5c68a1b78769a37bc8f4575432c198ccb4ef63590256e305cd3a9544ee4160ead45aef520489e7da7d835402bca670bda8eb775200b8dabbba246b130f040d8ec6447e2c767f3d30ed81ea2e4c1404e1315a1010e7229be6636aaa\"\n",
    "c5 = \"3f561ba9adb4b6ebec54424ba317b564418fac0dd35f8c08d31a1fe9e24fe56808c213f17c81d9607cee021dafe1e001b21ade877a5e68bea88d61b93ac5ee0d562e8e9582f5ef375f0a4ae20ed86e935de81230b59b73fb4302cd95d770c65b40aaa065f2a5e33a5a0bb5dcaba43722130f042f8ec85b7c2070\"\n",
    "c6 = \"32510bfbacfbb9befd54415da243e1695ecabd58c519cd4bd2061bbde24eb76a19d84aba34d8de287be84d07e7e9a30ee714979c7e1123a8bd9822a33ecaf512472e8e8f8db3f9635c1949e640c621854eba0d79eccf52ff111284b4cc61d11902aebc66f2b2e436434eacc0aba938220b084800c2ca4e693522643573b2c4ce35050b0cf774201f0fe52ac9f26d71b6cf61a711cc229f77ace7aa88a2f19983122b11be87a59c355d25f8e4\"\n",
    "c7 = \"32510bfbacfbb9befd54415da243e1695ecabd58c519cd4bd90f1fa6ea5ba47b01c909ba7696cf606ef40c04afe1ac0aa8148dd066592ded9f8774b529c7ea125d298e8883f5e9305f4b44f915cb2bd05af51373fd9b4af511039fa2d96f83414aaaf261bda2e97b170fb5cce2a53e675c154c0d9681596934777e2275b381ce2e40582afe67650b13e72287ff2270abcf73bb028932836fbdecfecee0a3b894473c1bbeb6b4913a536ce4f9b13f1efff71ea313c8661dd9a4ce\"\n",
    "c8 = \"315c4eeaa8b5f8bffd11155ea506b56041c6a00c8a08854dd21a4bbde54ce56801d943ba708b8a3574f40c00fff9e00fa1439fd0654327a3bfc860b92f89ee04132ecb9298f5fd2d5e4b45e40ecc3b9d59e9417df7c95bba410e9aa2ca24c5474da2f276baa3ac325918b2daada43d6712150441c2e04f6565517f317da9d3\"\n",
    "c9 = \"271946f9bbb2aeadec111841a81abc300ecaa01bd8069d5cc91005e9fe4aad6e04d513e96d99de2569bc5e50eeeca709b50a8a987f4264edb6896fb537d0a716132ddc938fb0f836480e06ed0fcd6e9759f40462f9cf57f4564186a2c1778f1543efa270bda5e933421cbe88a4a52222190f471e9bd15f652b653b7071aec59a2705081ffe72651d08f822c9ed6d76e48b63ab15d0208573a7eef027\"\n",
    "c10 = \"466d06ece998b7a2fb1d464fed2ced7641ddaa3cc31c9941cf110abbf409ed39598005b3399ccfafb61d0315fca0a314be138a9f32503bedac8067f03adbf3575c3b8edc9ba7f537530541ab0f9f3cd04ff50d66f1d559ba520e89a2cb2a83\"\n",
    "ciphers = [c1, c2, c3, c4, c5, c6, c7, c8, c9, c10]\n",
    "# The target ciphertext we want to crack\n",
    "target_cipher = \"32510ba9babebbbefd001547a810e67149caee11d945cd7fc81a05e9f85aac650e9052ba6a8cd8257bf14d13e6f0a803b54fde9e77472dbff89d71b57bddef121336cb85ccb8f3315f4b52e301d16e9f52f904\"\n",
    "\n",
    "# To store the final key\n",
    "final_key = [None]*150\n",
    "# To store the positions we know are broken\n",
    "known_key_positions = set()\n",
    "\n",
    "def convert(a):\n",
    "    tmp = []\n",
    "    new_string = \"\"\n",
    "    tmp += binascii.a2b_hex(a)\n",
    "    for t in tmp:\n",
    "        new_string += chr(t)\n",
    "    return new_string\n",
    "    \n",
    "\n",
    "# Change every ciphertext from hex to ASCII\n",
    "for i in range(0,len(ciphers)):\n",
    "    tmp = []\n",
    "    new_string = \"\"\n",
    "    tmp += binascii.a2b_hex(ciphers[i])\n",
    "    for t in tmp:\n",
    "        new_string += chr(t)\n",
    "    ciphers[i] = new_string\n",
    "target = ciphers[9]\n",
    "\n",
    "\n",
    "# For each ciphertext\n",
    "for current_index, ciphertext in enumerate(ciphers):\n",
    "\n",
    "\tcounter = collections.Counter()\n",
    "\t# for each other ciphertext\n",
    "\tfor index, ciphertext2 in enumerate(ciphers):\n",
    "\t\tif current_index != index: # don't xor a ciphertext with itself\n",
    "\t\t\tfor indexOfChar, char in enumerate(strxor(ciphertext,ciphertext2)): # Xor the two ciphertexts\n",
    "\t\t\t\t# If a character in the xored result is a alphanumeric character, it means there was probably a space character in one of the plaintexts (we don't know which one)\n",
    "\t\t\t\tif char in string.printable and char.isalpha(): counter[indexOfChar] += 1 # Increment the counter at this index\n",
    "\tknownSpaceIndexes = []\n",
    "\n",
    "\t# Loop through all positions where a space character was possible in the current_index cipher\n",
    "\tfor ind, val in counter.items():\n",
    "\t\t# If a space was found at least 7 times at this index out of the 9 possible XORS, then the space character was likely from the current_index cipher!\n",
    "\t\tif val >= 7: knownSpaceIndexes.append(ind)\n",
    "\t#print knownSpaceIndexes # Shows all the positions where we now know the key!\n",
    "\n",
    "\t# Now Xor the current_index with spaces, and at the knownSpaceIndexes positions we get the key back!\n",
    "\txor_with_spaces = strxor(ciphertext,' '*150)\n",
    "\t\n",
    "\tfor index in knownSpaceIndexes:\n",
    "\t\t# Store the key's value at the correct position\n",
    "\t\t# print(xor_with_spaces[index])\n",
    "\t\tfinal_key[index] = xor_with_spaces[index].encode(\"utf-8\").hex()\n",
    "\t\t# Record that we known the key at this position\n",
    "\t\tknown_key_positions.add(index)\n",
    "\n",
    "# Construct a hex key from the currently known key, adding in '00' hex chars where we do not know (to make a complete hex string)\n",
    "#print(final_key)\n",
    "#print([val if val is not None else '00' for val in final_key])\n",
    "final_key_hex = ''.join([val if val is not None else '00' for val in final_key])\n",
    "# Xor the currently known key with the target cipher\n",
    "output = strxor( convert(target_cipher), convert(final_key_hex) )\n",
    "# Print the output, printing a * if that character is not known yet\n",
    "print(''.join([char if index in known_key_positions else '*' for index, char in enumerate(output)]))\n",
    "'''\n",
    "Manual step\n",
    "'''\n",
    "# From the output this prints, we can manually complete the target plaintext from:\n",
    "# The secuet-mes*age*is: Wh** usi|g **str*am cipher, nev***use th* k*y *ore than onc*\n",
    "# to:\n",
    "# The secret message is: When using a stream cipher, never use the key more than once\n",
    "\n",
    "# We then confirm this is correct by producing the key from this, and decrpyting all the other messages to ensure they make grammatical sense\n",
    "target_plaintext = \"The secret message is: When using a stream cipher, never use the key more than once\"\n",
    "key = strxor(convert(target_cipher),target_plaintext)\n",
    "for cipher in ciphers:\n",
    "\tprint(strxor(cipher,key))"
   ]
  },
  {
   "cell_type": "code",
   "execution_count": 41,
   "metadata": {},
   "outputs": [
    {
     "ename": "UnicodeDecodeError",
     "evalue": "'utf-8' codec can't decode bytes in position 3-4: invalid continuation byte",
     "output_type": "error",
     "traceback": [
      "\u001b[1;31m---------------------------------------------------------------------------\u001b[0m",
      "\u001b[1;31mUnicodeDecodeError\u001b[0m                        Traceback (most recent call last)",
      "Cell \u001b[1;32mIn [41], line 1\u001b[0m\n\u001b[1;32m----> 1\u001b[0m \u001b[39mbytes\u001b[39;49m\u001b[39m.\u001b[39;49mfromhex(\u001b[39m\"\u001b[39;49m\u001b[39m234c02ecbbfbafa3ed18510abd11fa724fcda2018a1a8342cf064bbde548b12b07df44ba7191d9606ef4081ffde5ad46a5069d9f7f543bedb9c861bf29c7e205132eda9382b0bc2c5c4b45f919cf3a9f1cb74151f6d551f4480c82b2cb24cc5b028aa76eb7b4ab24171ab3cdadb8356f\u001b[39;49m\u001b[39m\"\u001b[39;49m)\u001b[39m.\u001b[39;49mdecode(\u001b[39m'\u001b[39;49m\u001b[39mutf-8\u001b[39;49m\u001b[39m'\u001b[39;49m)\n\u001b[0;32m      2\u001b[0m \u001b[39mdef\u001b[39;00m \u001b[39mstrxor\u001b[39m(a, b):     \u001b[39m# xor two strings (trims the longer input)\u001b[39;00m\n\u001b[0;32m      3\u001b[0m     \u001b[39mreturn\u001b[39;00m \u001b[39m\"\u001b[39m\u001b[39m\"\u001b[39m\u001b[39m.\u001b[39mjoin([\u001b[39mchr\u001b[39m(\u001b[39mord\u001b[39m(x) \u001b[39m^\u001b[39m \u001b[39mord\u001b[39m(y)) \u001b[39mfor\u001b[39;00m (x, y) \u001b[39min\u001b[39;00m \u001b[39mzip\u001b[39m(a, b)])\n",
      "\u001b[1;31mUnicodeDecodeError\u001b[0m: 'utf-8' codec can't decode bytes in position 3-4: invalid continuation byte"
     ]
    }
   ],
   "source": [
    "bytes.fromhex(\"234c02ecbbfbafa3ed18510abd11fa724fcda2018a1a8342cf064bbde548b12b07df44ba7191d9606ef4081ffde5ad46a5069d9f7f543bedb9c861bf29c7e205132eda9382b0bc2c5c4b45f919cf3a9f1cb74151f6d551f4480c82b2cb24cc5b028aa76eb7b4ab24171ab3cdadb8356f\").decode('utf-8')\n",
    "def strxor(a, b):     # xor two strings (trims the longer input)\n",
    "    return \"\".join([chr(ord(x) ^ ord(y)) for (x, y) in zip(a, b)])\n",
    "\n",
    "strxor(\"315c4eeaa8b5f8aaf9174145bf43e1784b8fa00dc71d885a804e5ee9fa40b16349c146fb778cdf2d3aff021dfff5b403b510d0d0455468aeb98622b137dae857553ccd8883a7bc37520e06e515d22c954eba5025b8cc57ee59418ce7dc6bc41556bdb36bbca3e8774301fbcaa3b83b220809560987815f65286764703de0f3d524400a19b159610b11ef3e\"\n",
    "       , \"234c02ecbbfbafa3ed18510abd11fa724fcda2018a1a8342cf064bbde548b12b07df44ba7191d9606ef4081ffde5ad46a5069d9f7f543bedb9c861bf29c7e205132eda9382b0bc2c5c4b45f919cf3a9f1cb74151f6d551f4480c82b2cb24cc5b028aa76eb7b4ab24171ab3cdadb8356f\")"
   ]
  }
 ],
 "metadata": {
  "kernelspec": {
   "display_name": "Python 3.9.0 64-bit",
   "language": "python",
   "name": "python3"
  },
  "language_info": {
   "codemirror_mode": {
    "name": "ipython",
    "version": 3
   },
   "file_extension": ".py",
   "mimetype": "text/x-python",
   "name": "python",
   "nbconvert_exporter": "python",
   "pygments_lexer": "ipython3",
   "version": "3.9.0"
  },
  "orig_nbformat": 4,
  "vscode": {
   "interpreter": {
    "hash": "6fff98fc3b3d81bd655c2cc48858186e4d9e2db7b515bf1c3221888f12a62f87"
   }
  }
 },
 "nbformat": 4,
 "nbformat_minor": 2
}
